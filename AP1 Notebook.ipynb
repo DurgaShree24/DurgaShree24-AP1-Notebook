{
 "cells": [
  {
   "cell_type": "markdown",
   "id": "f8f6c933",
   "metadata": {},
   "source": [
    "# <center><u><font face=\"Consolas\">Web application to detect fake news using supervised machine learning classification models</font></u><center>"
   ]
  },
  {
   "cell_type": "markdown",
   "id": "f418347a",
   "metadata": {},
   "source": [
    "<font face=\"Segoe UI\">**Task**<br><br> To build and deploy a web application to detect fake news using supervised machine learning classification models.<br></font>"
   ]
  },
  {
   "cell_type": "markdown",
   "id": "1ef61aab",
   "metadata": {},
   "source": [
    "<font size=3 face=\"Consolas\">__Table of contents__</font>\n",
    "<font face=\"Consolas\">\n",
    "- <a href=\"#Import-data\" style=\"text-decoration: none\">Import data</a>\n",
    "- <a href=\"#Structure-of-the-data\" style=\"text-decoration: none\">Structure of the data</a>\n",
    "- <a href=\"#EDA-and-Data-cleaning\" style=\"text-decoration: none\">EDA and Data cleaning</a>\n",
    "    - <a href=\"#Missing-value-treatment\" style=\"text-decoration: none\">Missing value treatment</a>\n",
    "    - <a href=\"#Data-Transformation\" style=\"text-decoration: none\">Data Transformation</a>\n",
    "    - <a href=\"#Check-Data-imbalance\" style=\"text-decoration: none\">Check Data imbalance</a>\n",
    "    - <a href=\"#Changing-dtypes-of-columns\" style=\"text-decoration: none\">Changing dtypes of columns</a>\n",
    "- <a href=\"#Data-Pre-processing\" style=\"text-decoration: none\">Data Pre processing</a>\n",
    "    - <a href=\"#Vectorization\" style=\"text-decoration: none\">Vectorization</a>\n",
    "- <a href=\"#Model-building-and-Evaluation\" style=\"text-decoration: none\">Model building and Evaluation</a>\n",
    "    - <a href=\"#Naive-Bayes\" style=\"text-decoration: none\">Naive Bayes</a>\n",
    "    - <a href=\"#Logistic-Regression\" style=\"text-decoration: none\">Logistic Regression</a>\n",
    "    - <a href=\"#Linear-SVC\" style=\"text-decoration: none\">Linear SVC</a>\n",
    "    - <a href=\"#XG-Boost\" style=\"text-decoration: none\">XG Boost</a>\n",
    "- <a href=\"#Model-Testing\" style=\"text-decoration: none\">Model Testing</a>\n",
    "- <a href=\"#Conclusion\" style=\"text-decoration: none\">Conclusion</a>\n",
    "</font>"
   ]
  },
  {
   "cell_type": "markdown",
   "id": "7a47ae92",
   "metadata": {},
   "source": [
    "### <font face=\"Consolas\">Import data</font>"
   ]
  },
  {
   "cell_type": "code",
   "execution_count": 1,
   "id": "239e6ed6",
   "metadata": {},
   "outputs": [],
   "source": [
    "# Importing the required packages for EDA.\n",
    "\n",
    "import numpy as np\n",
    "import pandas as pd\n",
    "\n",
    "# Importing packages required for visualizing the data.\n",
    "\n",
    "import matplotlib.pyplot as plt\n",
    "import seaborn as sns\n",
    "\n",
    "# To view all more columns in the output.\n",
    "\n",
    "pd.set_option('display.max_rows', 200)\n",
    "pd.set_option('display.max_columns', 200)\n",
    "\n",
    "import warnings # To ignore warnings.\n",
    "warnings.filterwarnings('ignore')"
   ]
  },
  {
   "cell_type": "code",
   "execution_count": 2,
   "id": "cdbff77f",
   "metadata": {},
   "outputs": [
    {
     "data": {
      "text/html": [
       "<!-- #The following piece of code adds a border to the output of Pandas dataframes to make it look cleaner. -->\n",
       "<style type='text/css'>\n",
       "    table.dataframe th, table.dataframe td{\n",
       "        border: 1px solid #999;\n",
       "    }\n",
       "    table.dataframe th{\n",
       "        background-color: #ccc;\n",
       "    }\n",
       "</style>\n"
      ],
      "text/plain": [
       "<IPython.core.display.HTML object>"
      ]
     },
     "metadata": {},
     "output_type": "display_data"
    }
   ],
   "source": [
    "%%HTML\n",
    "<!-- #The following piece of code adds a border to the output of Pandas dataframes to make it look cleaner. -->\n",
    "<style type='text/css'>\n",
    "    table.dataframe th, table.dataframe td{\n",
    "        border: 1px solid #999;\n",
    "    }\n",
    "    table.dataframe th{\n",
    "        background-color: #ccc;\n",
    "    }\n",
    "</style>"
   ]
  },
  {
   "cell_type": "markdown",
   "id": "da414751",
   "metadata": {},
   "source": [
    "### <font face=\"Consolas\">Structure of the data</font>"
   ]
  },
  {
   "cell_type": "code",
   "execution_count": 3,
   "id": "e47eeb5a",
   "metadata": {},
   "outputs": [],
   "source": [
    "# Reading the data file\n",
    "\n",
    "true = pd.read_csv(\"Dataset/True.csv\")\n",
    "fake = pd.read_csv(\"Dataset/Fake.csv\")"
   ]
  },
  {
   "cell_type": "code",
   "execution_count": 4,
   "id": "e1d4d522",
   "metadata": {},
   "outputs": [
    {
     "data": {
      "text/html": [
       "<div>\n",
       "<style scoped>\n",
       "    .dataframe tbody tr th:only-of-type {\n",
       "        vertical-align: middle;\n",
       "    }\n",
       "\n",
       "    .dataframe tbody tr th {\n",
       "        vertical-align: top;\n",
       "    }\n",
       "\n",
       "    .dataframe thead th {\n",
       "        text-align: right;\n",
       "    }\n",
       "</style>\n",
       "<table border=\"1\" class=\"dataframe\">\n",
       "  <thead>\n",
       "    <tr style=\"text-align: right;\">\n",
       "      <th></th>\n",
       "      <th>title</th>\n",
       "      <th>text</th>\n",
       "      <th>subject</th>\n",
       "      <th>date</th>\n",
       "    </tr>\n",
       "  </thead>\n",
       "  <tbody>\n",
       "    <tr>\n",
       "      <th>0</th>\n",
       "      <td>As U.S. budget fight looms, Republicans flip t...</td>\n",
       "      <td>WASHINGTON (Reuters) - The head of a conservat...</td>\n",
       "      <td>politicsNews</td>\n",
       "      <td>December 31, 2017</td>\n",
       "    </tr>\n",
       "    <tr>\n",
       "      <th>1</th>\n",
       "      <td>U.S. military to accept transgender recruits o...</td>\n",
       "      <td>WASHINGTON (Reuters) - Transgender people will...</td>\n",
       "      <td>politicsNews</td>\n",
       "      <td>December 29, 2017</td>\n",
       "    </tr>\n",
       "    <tr>\n",
       "      <th>2</th>\n",
       "      <td>Senior U.S. Republican senator: 'Let Mr. Muell...</td>\n",
       "      <td>WASHINGTON (Reuters) - The special counsel inv...</td>\n",
       "      <td>politicsNews</td>\n",
       "      <td>December 31, 2017</td>\n",
       "    </tr>\n",
       "    <tr>\n",
       "      <th>3</th>\n",
       "      <td>FBI Russia probe helped by Australian diplomat...</td>\n",
       "      <td>WASHINGTON (Reuters) - Trump campaign adviser ...</td>\n",
       "      <td>politicsNews</td>\n",
       "      <td>December 30, 2017</td>\n",
       "    </tr>\n",
       "    <tr>\n",
       "      <th>4</th>\n",
       "      <td>Trump wants Postal Service to charge 'much mor...</td>\n",
       "      <td>SEATTLE/WASHINGTON (Reuters) - President Donal...</td>\n",
       "      <td>politicsNews</td>\n",
       "      <td>December 29, 2017</td>\n",
       "    </tr>\n",
       "    <tr>\n",
       "      <th>...</th>\n",
       "      <td>...</td>\n",
       "      <td>...</td>\n",
       "      <td>...</td>\n",
       "      <td>...</td>\n",
       "    </tr>\n",
       "    <tr>\n",
       "      <th>21412</th>\n",
       "      <td>'Fully committed' NATO backs new U.S. approach...</td>\n",
       "      <td>BRUSSELS (Reuters) - NATO allies on Tuesday we...</td>\n",
       "      <td>worldnews</td>\n",
       "      <td>August 22, 2017</td>\n",
       "    </tr>\n",
       "    <tr>\n",
       "      <th>21413</th>\n",
       "      <td>LexisNexis withdrew two products from Chinese ...</td>\n",
       "      <td>LONDON (Reuters) - LexisNexis, a provider of l...</td>\n",
       "      <td>worldnews</td>\n",
       "      <td>August 22, 2017</td>\n",
       "    </tr>\n",
       "    <tr>\n",
       "      <th>21414</th>\n",
       "      <td>Minsk cultural hub becomes haven from authorities</td>\n",
       "      <td>MINSK (Reuters) - In the shadow of disused Sov...</td>\n",
       "      <td>worldnews</td>\n",
       "      <td>August 22, 2017</td>\n",
       "    </tr>\n",
       "    <tr>\n",
       "      <th>21415</th>\n",
       "      <td>Vatican upbeat on possibility of Pope Francis ...</td>\n",
       "      <td>MOSCOW (Reuters) - Vatican Secretary of State ...</td>\n",
       "      <td>worldnews</td>\n",
       "      <td>August 22, 2017</td>\n",
       "    </tr>\n",
       "    <tr>\n",
       "      <th>21416</th>\n",
       "      <td>Indonesia to buy $1.14 billion worth of Russia...</td>\n",
       "      <td>JAKARTA (Reuters) - Indonesia will buy 11 Sukh...</td>\n",
       "      <td>worldnews</td>\n",
       "      <td>August 22, 2017</td>\n",
       "    </tr>\n",
       "  </tbody>\n",
       "</table>\n",
       "<p>21417 rows × 4 columns</p>\n",
       "</div>"
      ],
      "text/plain": [
       "                                                   title  \\\n",
       "0      As U.S. budget fight looms, Republicans flip t...   \n",
       "1      U.S. military to accept transgender recruits o...   \n",
       "2      Senior U.S. Republican senator: 'Let Mr. Muell...   \n",
       "3      FBI Russia probe helped by Australian diplomat...   \n",
       "4      Trump wants Postal Service to charge 'much mor...   \n",
       "...                                                  ...   \n",
       "21412  'Fully committed' NATO backs new U.S. approach...   \n",
       "21413  LexisNexis withdrew two products from Chinese ...   \n",
       "21414  Minsk cultural hub becomes haven from authorities   \n",
       "21415  Vatican upbeat on possibility of Pope Francis ...   \n",
       "21416  Indonesia to buy $1.14 billion worth of Russia...   \n",
       "\n",
       "                                                    text       subject  \\\n",
       "0      WASHINGTON (Reuters) - The head of a conservat...  politicsNews   \n",
       "1      WASHINGTON (Reuters) - Transgender people will...  politicsNews   \n",
       "2      WASHINGTON (Reuters) - The special counsel inv...  politicsNews   \n",
       "3      WASHINGTON (Reuters) - Trump campaign adviser ...  politicsNews   \n",
       "4      SEATTLE/WASHINGTON (Reuters) - President Donal...  politicsNews   \n",
       "...                                                  ...           ...   \n",
       "21412  BRUSSELS (Reuters) - NATO allies on Tuesday we...     worldnews   \n",
       "21413  LONDON (Reuters) - LexisNexis, a provider of l...     worldnews   \n",
       "21414  MINSK (Reuters) - In the shadow of disused Sov...     worldnews   \n",
       "21415  MOSCOW (Reuters) - Vatican Secretary of State ...     worldnews   \n",
       "21416  JAKARTA (Reuters) - Indonesia will buy 11 Sukh...     worldnews   \n",
       "\n",
       "                     date  \n",
       "0      December 31, 2017   \n",
       "1      December 29, 2017   \n",
       "2      December 31, 2017   \n",
       "3      December 30, 2017   \n",
       "4      December 29, 2017   \n",
       "...                   ...  \n",
       "21412    August 22, 2017   \n",
       "21413    August 22, 2017   \n",
       "21414    August 22, 2017   \n",
       "21415    August 22, 2017   \n",
       "21416    August 22, 2017   \n",
       "\n",
       "[21417 rows x 4 columns]"
      ]
     },
     "execution_count": 4,
     "metadata": {},
     "output_type": "execute_result"
    }
   ],
   "source": [
    "true"
   ]
  },
  {
   "cell_type": "code",
   "execution_count": 5,
   "id": "054a67c2",
   "metadata": {},
   "outputs": [
    {
     "data": {
      "text/html": [
       "<div>\n",
       "<style scoped>\n",
       "    .dataframe tbody tr th:only-of-type {\n",
       "        vertical-align: middle;\n",
       "    }\n",
       "\n",
       "    .dataframe tbody tr th {\n",
       "        vertical-align: top;\n",
       "    }\n",
       "\n",
       "    .dataframe thead th {\n",
       "        text-align: right;\n",
       "    }\n",
       "</style>\n",
       "<table border=\"1\" class=\"dataframe\">\n",
       "  <thead>\n",
       "    <tr style=\"text-align: right;\">\n",
       "      <th></th>\n",
       "      <th>title</th>\n",
       "      <th>text</th>\n",
       "      <th>subject</th>\n",
       "      <th>date</th>\n",
       "    </tr>\n",
       "  </thead>\n",
       "  <tbody>\n",
       "    <tr>\n",
       "      <th>0</th>\n",
       "      <td>Donald Trump Sends Out Embarrassing New Year’...</td>\n",
       "      <td>Donald Trump just couldn t wish all Americans ...</td>\n",
       "      <td>News</td>\n",
       "      <td>December 31, 2017</td>\n",
       "    </tr>\n",
       "    <tr>\n",
       "      <th>1</th>\n",
       "      <td>Drunk Bragging Trump Staffer Started Russian ...</td>\n",
       "      <td>House Intelligence Committee Chairman Devin Nu...</td>\n",
       "      <td>News</td>\n",
       "      <td>December 31, 2017</td>\n",
       "    </tr>\n",
       "    <tr>\n",
       "      <th>2</th>\n",
       "      <td>Sheriff David Clarke Becomes An Internet Joke...</td>\n",
       "      <td>On Friday, it was revealed that former Milwauk...</td>\n",
       "      <td>News</td>\n",
       "      <td>December 30, 2017</td>\n",
       "    </tr>\n",
       "    <tr>\n",
       "      <th>3</th>\n",
       "      <td>Trump Is So Obsessed He Even Has Obama’s Name...</td>\n",
       "      <td>On Christmas day, Donald Trump announced that ...</td>\n",
       "      <td>News</td>\n",
       "      <td>December 29, 2017</td>\n",
       "    </tr>\n",
       "    <tr>\n",
       "      <th>4</th>\n",
       "      <td>Pope Francis Just Called Out Donald Trump Dur...</td>\n",
       "      <td>Pope Francis used his annual Christmas Day mes...</td>\n",
       "      <td>News</td>\n",
       "      <td>December 25, 2017</td>\n",
       "    </tr>\n",
       "    <tr>\n",
       "      <th>...</th>\n",
       "      <td>...</td>\n",
       "      <td>...</td>\n",
       "      <td>...</td>\n",
       "      <td>...</td>\n",
       "    </tr>\n",
       "    <tr>\n",
       "      <th>23476</th>\n",
       "      <td>McPain: John McCain Furious That Iran Treated ...</td>\n",
       "      <td>21st Century Wire says As 21WIRE reported earl...</td>\n",
       "      <td>Middle-east</td>\n",
       "      <td>January 16, 2016</td>\n",
       "    </tr>\n",
       "    <tr>\n",
       "      <th>23477</th>\n",
       "      <td>JUSTICE? Yahoo Settles E-mail Privacy Class-ac...</td>\n",
       "      <td>21st Century Wire says It s a familiar theme. ...</td>\n",
       "      <td>Middle-east</td>\n",
       "      <td>January 16, 2016</td>\n",
       "    </tr>\n",
       "    <tr>\n",
       "      <th>23478</th>\n",
       "      <td>Sunnistan: US and Allied ‘Safe Zone’ Plan to T...</td>\n",
       "      <td>Patrick Henningsen  21st Century WireRemember ...</td>\n",
       "      <td>Middle-east</td>\n",
       "      <td>January 15, 2016</td>\n",
       "    </tr>\n",
       "    <tr>\n",
       "      <th>23479</th>\n",
       "      <td>How to Blow $700 Million: Al Jazeera America F...</td>\n",
       "      <td>21st Century Wire says Al Jazeera America will...</td>\n",
       "      <td>Middle-east</td>\n",
       "      <td>January 14, 2016</td>\n",
       "    </tr>\n",
       "    <tr>\n",
       "      <th>23480</th>\n",
       "      <td>10 U.S. Navy Sailors Held by Iranian Military ...</td>\n",
       "      <td>21st Century Wire says As 21WIRE predicted in ...</td>\n",
       "      <td>Middle-east</td>\n",
       "      <td>January 12, 2016</td>\n",
       "    </tr>\n",
       "  </tbody>\n",
       "</table>\n",
       "<p>23481 rows × 4 columns</p>\n",
       "</div>"
      ],
      "text/plain": [
       "                                                   title  \\\n",
       "0       Donald Trump Sends Out Embarrassing New Year’...   \n",
       "1       Drunk Bragging Trump Staffer Started Russian ...   \n",
       "2       Sheriff David Clarke Becomes An Internet Joke...   \n",
       "3       Trump Is So Obsessed He Even Has Obama’s Name...   \n",
       "4       Pope Francis Just Called Out Donald Trump Dur...   \n",
       "...                                                  ...   \n",
       "23476  McPain: John McCain Furious That Iran Treated ...   \n",
       "23477  JUSTICE? Yahoo Settles E-mail Privacy Class-ac...   \n",
       "23478  Sunnistan: US and Allied ‘Safe Zone’ Plan to T...   \n",
       "23479  How to Blow $700 Million: Al Jazeera America F...   \n",
       "23480  10 U.S. Navy Sailors Held by Iranian Military ...   \n",
       "\n",
       "                                                    text      subject  \\\n",
       "0      Donald Trump just couldn t wish all Americans ...         News   \n",
       "1      House Intelligence Committee Chairman Devin Nu...         News   \n",
       "2      On Friday, it was revealed that former Milwauk...         News   \n",
       "3      On Christmas day, Donald Trump announced that ...         News   \n",
       "4      Pope Francis used his annual Christmas Day mes...         News   \n",
       "...                                                  ...          ...   \n",
       "23476  21st Century Wire says As 21WIRE reported earl...  Middle-east   \n",
       "23477  21st Century Wire says It s a familiar theme. ...  Middle-east   \n",
       "23478  Patrick Henningsen  21st Century WireRemember ...  Middle-east   \n",
       "23479  21st Century Wire says Al Jazeera America will...  Middle-east   \n",
       "23480  21st Century Wire says As 21WIRE predicted in ...  Middle-east   \n",
       "\n",
       "                    date  \n",
       "0      December 31, 2017  \n",
       "1      December 31, 2017  \n",
       "2      December 30, 2017  \n",
       "3      December 29, 2017  \n",
       "4      December 25, 2017  \n",
       "...                  ...  \n",
       "23476   January 16, 2016  \n",
       "23477   January 16, 2016  \n",
       "23478   January 15, 2016  \n",
       "23479   January 14, 2016  \n",
       "23480   January 12, 2016  \n",
       "\n",
       "[23481 rows x 4 columns]"
      ]
     },
     "execution_count": 5,
     "metadata": {},
     "output_type": "execute_result"
    }
   ],
   "source": [
    "fake"
   ]
  },
  {
   "cell_type": "code",
   "execution_count": 6,
   "id": "59577253",
   "metadata": {},
   "outputs": [],
   "source": [
    "# Randomly delete columns in both true and fake to get 10k rows for the project\n",
    "\n",
    "np.random.seed(10)\n",
    "true_drop = np.random.choice(true.index, 16417, replace=False)\n",
    "true = true.drop(true_drop)\n",
    "\n",
    "np.random.seed(10)\n",
    "fake_drop = np.random.choice(fake.index, 18481, replace=False)\n",
    "fake = fake.drop(fake_drop)"
   ]
  },
  {
   "cell_type": "code",
   "execution_count": 7,
   "id": "f8bc7af3",
   "metadata": {},
   "outputs": [],
   "source": [
    "# label the data\n",
    "\n",
    "true['label'] = 1\n",
    "fake['label'] = 0"
   ]
  },
  {
   "cell_type": "code",
   "execution_count": 8,
   "id": "3fe572c8",
   "metadata": {},
   "outputs": [],
   "source": [
    "# Concat both the datsets true and fake\n",
    "\n",
    "df = pd.concat([true, fake], axis=0)"
   ]
  },
  {
   "cell_type": "code",
   "execution_count": 9,
   "id": "c32162c8",
   "metadata": {},
   "outputs": [],
   "source": [
    "# shuffle the dataset\n",
    "\n",
    "np.random.seed(100)\n",
    "df = df.sample(frac=1).reset_index(drop=True)"
   ]
  },
  {
   "cell_type": "code",
   "execution_count": 11,
   "id": "1a8da8b6",
   "metadata": {},
   "outputs": [
    {
     "data": {
      "text/html": [
       "<div>\n",
       "<style scoped>\n",
       "    .dataframe tbody tr th:only-of-type {\n",
       "        vertical-align: middle;\n",
       "    }\n",
       "\n",
       "    .dataframe tbody tr th {\n",
       "        vertical-align: top;\n",
       "    }\n",
       "\n",
       "    .dataframe thead th {\n",
       "        text-align: right;\n",
       "    }\n",
       "</style>\n",
       "<table border=\"1\" class=\"dataframe\">\n",
       "  <thead>\n",
       "    <tr style=\"text-align: right;\">\n",
       "      <th></th>\n",
       "      <th>title</th>\n",
       "      <th>text</th>\n",
       "      <th>subject</th>\n",
       "      <th>date</th>\n",
       "      <th>label</th>\n",
       "    </tr>\n",
       "  </thead>\n",
       "  <tbody>\n",
       "    <tr>\n",
       "      <th>0</th>\n",
       "      <td>INFLUENTIAL HOLLYWOOD LEFTIST Looks Forward To...</td>\n",
       "      <td>How very progressive Not since the Civil Right...</td>\n",
       "      <td>politics</td>\n",
       "      <td>Feb 26, 2016</td>\n",
       "      <td>0</td>\n",
       "    </tr>\n",
       "    <tr>\n",
       "      <th>1</th>\n",
       "      <td>BUSTED! ONE OF NATION’S BIGGEST POLITICAL DONO...</td>\n",
       "      <td>I wonder if they ll get the same treatment Din...</td>\n",
       "      <td>left-news</td>\n",
       "      <td>Nov 2, 2016</td>\n",
       "      <td>0</td>\n",
       "    </tr>\n",
       "    <tr>\n",
       "      <th>2</th>\n",
       "      <td>No rest, high tempo - energetic Macron keeps E...</td>\n",
       "      <td>PARIS (Reuters) - From text messages at 2 a.m....</td>\n",
       "      <td>worldnews</td>\n",
       "      <td>October 25, 2017</td>\n",
       "      <td>1</td>\n",
       "    </tr>\n",
       "    <tr>\n",
       "      <th>3</th>\n",
       "      <td>U.S. attorney general deflects lawmakers' ques...</td>\n",
       "      <td>WASHINGTON (Reuters) - The top U.S. law enforc...</td>\n",
       "      <td>politicsNews</td>\n",
       "      <td>July 12, 2016</td>\n",
       "      <td>1</td>\n",
       "    </tr>\n",
       "    <tr>\n",
       "      <th>4</th>\n",
       "      <td>Lebanon president seeks diplomatic help on PM ...</td>\n",
       "      <td>BEIRUT (Reuters) - Lebanese President Michel A...</td>\n",
       "      <td>worldnews</td>\n",
       "      <td>November 9, 2017</td>\n",
       "      <td>1</td>\n",
       "    </tr>\n",
       "  </tbody>\n",
       "</table>\n",
       "</div>"
      ],
      "text/plain": [
       "                                               title  \\\n",
       "0  INFLUENTIAL HOLLYWOOD LEFTIST Looks Forward To...   \n",
       "1  BUSTED! ONE OF NATION’S BIGGEST POLITICAL DONO...   \n",
       "2  No rest, high tempo - energetic Macron keeps E...   \n",
       "3  U.S. attorney general deflects lawmakers' ques...   \n",
       "4  Lebanon president seeks diplomatic help on PM ...   \n",
       "\n",
       "                                                text       subject  \\\n",
       "0  How very progressive Not since the Civil Right...      politics   \n",
       "1  I wonder if they ll get the same treatment Din...     left-news   \n",
       "2  PARIS (Reuters) - From text messages at 2 a.m....     worldnews   \n",
       "3  WASHINGTON (Reuters) - The top U.S. law enforc...  politicsNews   \n",
       "4  BEIRUT (Reuters) - Lebanese President Michel A...     worldnews   \n",
       "\n",
       "                date  label  \n",
       "0       Feb 26, 2016      0  \n",
       "1        Nov 2, 2016      0  \n",
       "2  October 25, 2017       1  \n",
       "3     July 12, 2016       1  \n",
       "4  November 9, 2017       1  "
      ]
     },
     "execution_count": 11,
     "metadata": {},
     "output_type": "execute_result"
    }
   ],
   "source": [
    "df.head()"
   ]
  },
  {
   "cell_type": "code",
   "execution_count": 12,
   "id": "a48deccc",
   "metadata": {},
   "outputs": [
    {
     "data": {
      "text/plain": [
       "(10000, 5)"
      ]
     },
     "execution_count": 12,
     "metadata": {},
     "output_type": "execute_result"
    }
   ],
   "source": [
    "df.shape"
   ]
  },
  {
   "cell_type": "code",
   "execution_count": 13,
   "id": "4ea3084f",
   "metadata": {},
   "outputs": [
    {
     "name": "stdout",
     "output_type": "stream",
     "text": [
      "<class 'pandas.core.frame.DataFrame'>\n",
      "RangeIndex: 10000 entries, 0 to 9999\n",
      "Data columns (total 5 columns):\n",
      " #   Column   Non-Null Count  Dtype \n",
      "---  ------   --------------  ----- \n",
      " 0   title    10000 non-null  object\n",
      " 1   text     10000 non-null  object\n",
      " 2   subject  10000 non-null  object\n",
      " 3   date     10000 non-null  object\n",
      " 4   label    10000 non-null  int64 \n",
      "dtypes: int64(1), object(4)\n",
      "memory usage: 390.8+ KB\n"
     ]
    }
   ],
   "source": [
    "df.info(verbose=True)"
   ]
  },
  {
   "cell_type": "code",
   "execution_count": 14,
   "id": "d32a5bb2",
   "metadata": {},
   "outputs": [
    {
     "data": {
      "text/html": [
       "<div>\n",
       "<style scoped>\n",
       "    .dataframe tbody tr th:only-of-type {\n",
       "        vertical-align: middle;\n",
       "    }\n",
       "\n",
       "    .dataframe tbody tr th {\n",
       "        vertical-align: top;\n",
       "    }\n",
       "\n",
       "    .dataframe thead th {\n",
       "        text-align: right;\n",
       "    }\n",
       "</style>\n",
       "<table border=\"1\" class=\"dataframe\">\n",
       "  <thead>\n",
       "    <tr style=\"text-align: right;\">\n",
       "      <th></th>\n",
       "      <th>label</th>\n",
       "    </tr>\n",
       "  </thead>\n",
       "  <tbody>\n",
       "    <tr>\n",
       "      <th>count</th>\n",
       "      <td>10000.000000</td>\n",
       "    </tr>\n",
       "    <tr>\n",
       "      <th>mean</th>\n",
       "      <td>0.500000</td>\n",
       "    </tr>\n",
       "    <tr>\n",
       "      <th>std</th>\n",
       "      <td>0.500025</td>\n",
       "    </tr>\n",
       "    <tr>\n",
       "      <th>min</th>\n",
       "      <td>0.000000</td>\n",
       "    </tr>\n",
       "    <tr>\n",
       "      <th>25%</th>\n",
       "      <td>0.000000</td>\n",
       "    </tr>\n",
       "    <tr>\n",
       "      <th>50%</th>\n",
       "      <td>0.500000</td>\n",
       "    </tr>\n",
       "    <tr>\n",
       "      <th>75%</th>\n",
       "      <td>1.000000</td>\n",
       "    </tr>\n",
       "    <tr>\n",
       "      <th>max</th>\n",
       "      <td>1.000000</td>\n",
       "    </tr>\n",
       "  </tbody>\n",
       "</table>\n",
       "</div>"
      ],
      "text/plain": [
       "              label\n",
       "count  10000.000000\n",
       "mean       0.500000\n",
       "std        0.500025\n",
       "min        0.000000\n",
       "25%        0.000000\n",
       "50%        0.500000\n",
       "75%        1.000000\n",
       "max        1.000000"
      ]
     },
     "execution_count": 14,
     "metadata": {},
     "output_type": "execute_result"
    }
   ],
   "source": [
    "df.describe()"
   ]
  },
  {
   "cell_type": "markdown",
   "id": "c30f5fd8",
   "metadata": {},
   "source": [
    "### <font face=\"Consolas\">EDA and Data cleaning</font>"
   ]
  },
  {
   "cell_type": "code",
   "execution_count": 15,
   "id": "8c2d144b",
   "metadata": {},
   "outputs": [],
   "source": [
    "# Creating a function which returns the sum of missing values (with percentage) in a dataframe.\n",
    "\n",
    "def missingVal_percentage(dataframe):\n",
    "    return(pd.DataFrame({'Missing_Values': dataframe.isnull().sum(),\n",
    "                         'Percentage': round(100*(dataframe.isnull().sum()/len(dataframe)),2)}))"
   ]
  },
  {
   "cell_type": "markdown",
   "id": "14a6c511",
   "metadata": {},
   "source": [
    "#### <font face=\"Consolas\">Missing value treatment</font>"
   ]
  },
  {
   "cell_type": "code",
   "execution_count": 16,
   "id": "a9b92be7",
   "metadata": {
    "scrolled": true
   },
   "outputs": [
    {
     "data": {
      "text/html": [
       "<div>\n",
       "<style scoped>\n",
       "    .dataframe tbody tr th:only-of-type {\n",
       "        vertical-align: middle;\n",
       "    }\n",
       "\n",
       "    .dataframe tbody tr th {\n",
       "        vertical-align: top;\n",
       "    }\n",
       "\n",
       "    .dataframe thead th {\n",
       "        text-align: right;\n",
       "    }\n",
       "</style>\n",
       "<table border=\"1\" class=\"dataframe\">\n",
       "  <thead>\n",
       "    <tr style=\"text-align: right;\">\n",
       "      <th></th>\n",
       "      <th>Missing_Values</th>\n",
       "      <th>Percentage</th>\n",
       "    </tr>\n",
       "  </thead>\n",
       "  <tbody>\n",
       "    <tr>\n",
       "      <th>title</th>\n",
       "      <td>0</td>\n",
       "      <td>0.0</td>\n",
       "    </tr>\n",
       "    <tr>\n",
       "      <th>text</th>\n",
       "      <td>0</td>\n",
       "      <td>0.0</td>\n",
       "    </tr>\n",
       "    <tr>\n",
       "      <th>subject</th>\n",
       "      <td>0</td>\n",
       "      <td>0.0</td>\n",
       "    </tr>\n",
       "    <tr>\n",
       "      <th>date</th>\n",
       "      <td>0</td>\n",
       "      <td>0.0</td>\n",
       "    </tr>\n",
       "    <tr>\n",
       "      <th>label</th>\n",
       "      <td>0</td>\n",
       "      <td>0.0</td>\n",
       "    </tr>\n",
       "  </tbody>\n",
       "</table>\n",
       "</div>"
      ],
      "text/plain": [
       "         Missing_Values  Percentage\n",
       "title                 0         0.0\n",
       "text                  0         0.0\n",
       "subject               0         0.0\n",
       "date                  0         0.0\n",
       "label                 0         0.0"
      ]
     },
     "execution_count": 16,
     "metadata": {},
     "output_type": "execute_result"
    }
   ],
   "source": [
    "# Missing values in the dataset.\n",
    "\n",
    "missingVal_percentage(df)"
   ]
  },
  {
   "cell_type": "markdown",
   "id": "bc2d3132",
   "metadata": {},
   "source": [
    "### <font face=\"Consolas\">Check Data imbalance</font>"
   ]
  },
  {
   "cell_type": "code",
   "execution_count": 18,
   "id": "506c89d5",
   "metadata": {},
   "outputs": [
    {
     "data": {
      "text/plain": [
       "<AxesSubplot:xlabel='label', ylabel='count'>"
      ]
     },
     "execution_count": 18,
     "metadata": {},
     "output_type": "execute_result"
    },
    {
     "data": {
      "image/png": "[encoded data removed]",
      "text/plain": [
       "<Figure size 640x480 with 1 Axes>"
      ]
     },
     "metadata": {},
     "output_type": "display_data"
    }
   ],
   "source": [
    "# checking for data imbalance\n",
    "\n",
    "plt.xticks(rotation=0)\n",
    "sns.countplot(df['label'])"
   ]
  },
  {
   "cell_type": "code",
   "execution_count": 20,
   "id": "bb1ac05b",
   "metadata": {},
   "outputs": [
    {
     "data": {
      "text/plain": [
       "count            10000\n",
       "unique               8\n",
       "top       politicsNews\n",
       "freq              2607\n",
       "Name: subject, dtype: object"
      ]
     },
     "execution_count": 20,
     "metadata": {},
     "output_type": "execute_result"
    }
   ],
   "source": [
    "# column inspection\n",
    "\n",
    "df['subject'].describe()"
   ]
  },
  {
   "cell_type": "code",
   "execution_count": 21,
   "id": "183ffdac",
   "metadata": {
    "scrolled": true
   },
   "outputs": [
    {
     "data": {
      "text/plain": [
       "<AxesSubplot:xlabel='subject', ylabel='count'>"
      ]
     },
     "execution_count": 21,
     "metadata": {},
     "output_type": "execute_result"
    },
    {
     "data": {
      "image/png": "[encoded data removed]",
      "text/plain": [
       "<Figure size 640x480 with 1 Axes>"
      ]
     },
     "metadata": {},
     "output_type": "display_data"
    }
   ],
   "source": [
    "# Plotting the data \n",
    "\n",
    "plt.xticks(rotation=45)\n",
    "sns.countplot(df['subject'])"
   ]
  },
  {
   "cell_type": "markdown",
   "id": "97ad8002",
   "metadata": {},
   "source": [
    "### <font face=\"Consolas\">Data transformation</font>"
   ]
  },
  {
   "cell_type": "code",
   "execution_count": 22,
   "id": "ec92f374",
   "metadata": {},
   "outputs": [],
   "source": [
    "# Transforming the unmatching subjects to the same notation\n",
    "df.subject=df.subject.replace({'politics':'PoliticsNews','politicsNews':'PoliticsNews',\n",
    "                               'News':'WorldNews','worldnews':'WorldNews'})"
   ]
  },
  {
   "cell_type": "markdown",
   "id": "642df755",
   "metadata": {},
   "source": [
    "### <font face=\"Consolas\">Changing dtypes of columns</font>"
   ]
  },
  {
   "cell_type": "code",
   "execution_count": 23,
   "id": "17309d0e",
   "metadata": {},
   "outputs": [
    {
     "data": {
      "text/plain": [
       "2017.0    5886\n",
       "2016.0    3567\n",
       "2015.0     536\n",
       "2018.0       7\n",
       "Name: year, dtype: int64"
      ]
     },
     "execution_count": 23,
     "metadata": {},
     "output_type": "execute_result"
    }
   ],
   "source": [
    "# checking date column - 2017 has most news\n",
    "df[\"date\"] = pd.to_datetime(df[\"date\"], errors=\"coerce\", dayfirst=True )\n",
    "df['year'] = df['date'].dt.year\n",
    "df['year'].value_counts()"
   ]
  },
  {
   "cell_type": "code",
   "execution_count": 24,
   "id": "a10f12ce",
   "metadata": {},
   "outputs": [],
   "source": [
    "# drop columns that are unncessary after analysing\n",
    "\n",
    "del df['date']\n",
    "del df['year']"
   ]
  },
  {
   "cell_type": "code",
   "execution_count": 25,
   "id": "0e225562",
   "metadata": {},
   "outputs": [],
   "source": [
    "df_model =  df.copy()"
   ]
  },
  {
   "cell_type": "code",
   "execution_count": 26,
   "id": "20409726",
   "metadata": {},
   "outputs": [],
   "source": [
    "df_model.reset_index(inplace=True)"
   ]
  },
  {
   "cell_type": "code",
   "execution_count": 27,
   "id": "9d5ce2d7",
   "metadata": {},
   "outputs": [
    {
     "data": {
      "text/html": [
       "<div>\n",
       "<style scoped>\n",
       "    .dataframe tbody tr th:only-of-type {\n",
       "        vertical-align: middle;\n",
       "    }\n",
       "\n",
       "    .dataframe tbody tr th {\n",
       "        vertical-align: top;\n",
       "    }\n",
       "\n",
       "    .dataframe thead th {\n",
       "        text-align: right;\n",
       "    }\n",
       "</style>\n",
       "<table border=\"1\" class=\"dataframe\">\n",
       "  <thead>\n",
       "    <tr style=\"text-align: right;\">\n",
       "      <th></th>\n",
       "      <th>index</th>\n",
       "      <th>title</th>\n",
       "      <th>text</th>\n",
       "      <th>subject</th>\n",
       "      <th>label</th>\n",
       "    </tr>\n",
       "  </thead>\n",
       "  <tbody>\n",
       "    <tr>\n",
       "      <th>0</th>\n",
       "      <td>0</td>\n",
       "      <td>INFLUENTIAL HOLLYWOOD LEFTIST Looks Forward To...</td>\n",
       "      <td>How very progressive Not since the Civil Right...</td>\n",
       "      <td>PoliticsNews</td>\n",
       "      <td>0</td>\n",
       "    </tr>\n",
       "    <tr>\n",
       "      <th>1</th>\n",
       "      <td>1</td>\n",
       "      <td>BUSTED! ONE OF NATION’S BIGGEST POLITICAL DONO...</td>\n",
       "      <td>I wonder if they ll get the same treatment Din...</td>\n",
       "      <td>left-news</td>\n",
       "      <td>0</td>\n",
       "    </tr>\n",
       "    <tr>\n",
       "      <th>2</th>\n",
       "      <td>2</td>\n",
       "      <td>No rest, high tempo - energetic Macron keeps E...</td>\n",
       "      <td>PARIS (Reuters) - From text messages at 2 a.m....</td>\n",
       "      <td>WorldNews</td>\n",
       "      <td>1</td>\n",
       "    </tr>\n",
       "    <tr>\n",
       "      <th>3</th>\n",
       "      <td>3</td>\n",
       "      <td>U.S. attorney general deflects lawmakers' ques...</td>\n",
       "      <td>WASHINGTON (Reuters) - The top U.S. law enforc...</td>\n",
       "      <td>PoliticsNews</td>\n",
       "      <td>1</td>\n",
       "    </tr>\n",
       "    <tr>\n",
       "      <th>4</th>\n",
       "      <td>4</td>\n",
       "      <td>Lebanon president seeks diplomatic help on PM ...</td>\n",
       "      <td>BEIRUT (Reuters) - Lebanese President Michel A...</td>\n",
       "      <td>WorldNews</td>\n",
       "      <td>1</td>\n",
       "    </tr>\n",
       "  </tbody>\n",
       "</table>\n",
       "</div>"
      ],
      "text/plain": [
       "   index                                              title  \\\n",
       "0      0  INFLUENTIAL HOLLYWOOD LEFTIST Looks Forward To...   \n",
       "1      1  BUSTED! ONE OF NATION’S BIGGEST POLITICAL DONO...   \n",
       "2      2  No rest, high tempo - energetic Macron keeps E...   \n",
       "3      3  U.S. attorney general deflects lawmakers' ques...   \n",
       "4      4  Lebanon president seeks diplomatic help on PM ...   \n",
       "\n",
       "                                                text       subject  label  \n",
       "0  How very progressive Not since the Civil Right...  PoliticsNews      0  \n",
       "1  I wonder if they ll get the same treatment Din...     left-news      0  \n",
       "2  PARIS (Reuters) - From text messages at 2 a.m....     WorldNews      1  \n",
       "3  WASHINGTON (Reuters) - The top U.S. law enforc...  PoliticsNews      1  \n",
       "4  BEIRUT (Reuters) - Lebanese President Michel A...     WorldNews      1  "
      ]
     },
     "execution_count": 27,
     "metadata": {},
     "output_type": "execute_result"
    }
   ],
   "source": [
    "df_model.head()"
   ]
  },
  {
   "cell_type": "code",
   "execution_count": 28,
   "id": "223bed98",
   "metadata": {},
   "outputs": [
    {
     "data": {
      "text/plain": [
       "'No rest, high tempo - energetic Macron keeps Elysee agenda ticking'"
      ]
     },
     "execution_count": 28,
     "metadata": {},
     "output_type": "execute_result"
    }
   ],
   "source": [
    "df_model['title'][2]"
   ]
  },
  {
   "cell_type": "code",
   "execution_count": 29,
   "id": "8bbadb17",
   "metadata": {},
   "outputs": [
    {
     "data": {
      "text/plain": [
       "'PARIS (Reuters) - From text messages at 2 a.m. to clockwork meetings and tight deadlines, 39-year-old Emmanuel Macron is shaking up how the French presidency is run, raising the tempo and stretching the limits of the largely youthful team around him. France s political magazines are full of snippets every week about the inner workings of Macron s Elysee, whether the comings and goings of his rescue dog Nemo or details of messages sent to the foreign minister in the dead of night. But foreign diplomats dealing with the administration also describe a different pace and style of work, saying the young president, with a background in investment banking and civil service, has injected fresh elan into the role. Half a dozen senior European envoys, speaking to Reuters on condition of anonymity, expressed similar views on the sharpness, energy and openness of Macron and his team, whether on specific policy discussions or wider bilateral issues. While they were quick to emphasize that former President Francois Hollande also had a strong command of the files and a ready wit, Macron s focus, personal engagement and trust in those around him has quickened the rhythm, they said.  There is undoubtedly a change in pace,  said the ambassador of one northern European country.  It s not just in terms of ambition, but actually engagement. They are very open, they want us involved, they want us there in meetings.  Another described Macron s team as bringing a level of analysis and planning to the table that is more in tune with the worlds of investment banking and finance than politics. On EU policy in particular   which Macron has made a priority, delivering big-picture speeches in Athens and at the Sorbonne   he has established a tight group of advisers and envoys around him, combining youth and experience. As well as Philippe Etienne, 61, the former French ambassador to the EU, there is 36-year-old Clement Beaune, a graduate of the elite ENA school who was part of Macron s En Marche! Movement from the beginning and is now Europe adviser. Philippe Leglise-Costa, the new representative in Brussels, and Europe minister Nathalie Loiseau are also part of the mix. The question is whether the new energy and approach of the  Macronistas    which some French media have described as exhausting to the point of collapse   can bear fruit or will prove more style than substance. Some of the early signs are positive, particularly on Europe policy. This week, EU labor ministers agreed to amend the rules on so-called  posted workers , a divisive issue Macron had pushed since taking office in May. The policy allows EU employees to work elsewhere in the bloc on terms set in their home countries, which countries like France that offer strong worker protections say lets employers get around labor laws by importing workers. The ministers agreed to shorten the period of such postings. Last month, with Elysee input, Germany s Siemens and France s Alstom agreed to merge their rail operations, creating a European champion to compete with China. The same week, France agreed to cede control of shipyard STX to Italy s Fincantieri, another sensitive move shaped by the Elysee. The area where Macron s high-tempo agenda is proving less successful so far is euro zone financial reform. The president had hoped to work with German Chancellor Angela Merkel to overhaul monetary union, including establishing a separate budget for the 19 countries that use the euro.  The results of Germany s election last month have made that more difficult, with both Merkel s likely coalition partners, the liberal FDP party and the Greens, opposed to a euro zone budget or any debt-sharing. Macron acknowledged some of those obstacles at a summit of EU leaders in Brussels last week, but said he remained committed to the budget goal, saying it would emerge eventually. '"
      ]
     },
     "execution_count": 29,
     "metadata": {},
     "output_type": "execute_result"
    }
   ],
   "source": [
    "df_model['text'][2]"
   ]
  },
  {
   "cell_type": "markdown",
   "id": "6dbd0728",
   "metadata": {},
   "source": [
    "### <font face=\"Consolas\">Data Pre processing</font>"
   ]
  },
  {
   "cell_type": "code",
   "execution_count": 32,
   "id": "102de9f1",
   "metadata": {},
   "outputs": [],
   "source": [
    "from nltk.corpus import stopwords\n",
    "from nltk.stem.porter import PorterStemmer\n",
    "ps = PorterStemmer()"
   ]
  },
  {
   "cell_type": "code",
   "execution_count": 33,
   "id": "683c9bb9",
   "metadata": {},
   "outputs": [
    {
     "name": "stderr",
     "output_type": "stream",
     "text": [
      "[nltk_data] Downloading package stopwords to\n",
      "[nltk_data]     /Users/durgashree/nltk_data...\n",
      "[nltk_data]   Package stopwords is already up-to-date!\n"
     ]
    }
   ],
   "source": [
    "import re\n",
    "import nltk\n",
    "nltk.download('stopwords')\n",
    "\n",
    "corpus = []\n",
    "for i in range(0, len(df_model)):\n",
    "    review = re.sub('[^a-zA-Z]', ' ', df_model['text'][i])\n",
    "    review = review.lower()\n",
    "    review = review.split()\n",
    "    \n",
    "    review = [ps.stem(word) for word in review if not word in stopwords.words('english')]\n",
    "    review = ' '.join(review)\n",
    "    corpus.append(review)"
   ]
  },
  {
   "cell_type": "code",
   "execution_count": 34,
   "id": "e3bbcba1",
   "metadata": {},
   "outputs": [
    {
     "data": {
      "text/plain": [
       "10000"
      ]
     },
     "execution_count": 34,
     "metadata": {},
     "output_type": "execute_result"
    }
   ],
   "source": [
    "len(corpus)"
   ]
  },
  {
   "cell_type": "code",
   "execution_count": 35,
   "id": "0182fdc2",
   "metadata": {
    "scrolled": true
   },
   "outputs": [
    {
     "data": {
      "text/plain": [
       "'progress sinc civil right movement america seen racial divid cours know behind manufactur race war america barack obama work unison race agit hollywood idiot like harvey weinstein will suffer consequ humili racist comedian front million mean absolv sin hire enough black peopl co chief weinstein co acknowledg academi poor track record come film peopl color includ feel blame belong studio distributor peopl work hard live prize academi card reach zenith go retir imagin chri rock open remark harvey weinstein co chief weinstein co say sit record episod award chatter podcast day ahead sunday rock host th academi award anybodi plan boycot oscar chri rock gonna annihil everi one us leader hollywood studio distribut compani first minut show well worth watch oscar rememb year first time sinc one time last year none weinstein film nomin best pictur carol hate eight came short still go show hope best origin score win hate compos ennio morricon among other associ weinstein co film well best actor win buddi leo dicaprio reven film like last two best pictur oscar winner year slave birdman guid fruition new regenc presid ceo brad weston use co presid weinstein co dimens film divis exampl chri rock one racist rant weinstein say understand experi frustrat peopl call boycott oscar oscarssowhit controversi feel made differ support ultim object voic actual get peopl motiv say want boycott peopl use person power forc chang look go great everybodi think thought coupl year ago bug year film ethnic divers never got anyth said gonna stack deck gonna put butler mandela fruitval station year okay got one nomin u three movi race drive consider idea say make think continu year year slave said one via hollywood report'"
      ]
     },
     "execution_count": 35,
     "metadata": {},
     "output_type": "execute_result"
    }
   ],
   "source": [
    "corpus[0]"
   ]
  },
  {
   "cell_type": "markdown",
   "id": "5b3fea47",
   "metadata": {},
   "source": [
    "### <font face=\"Consolas\">Vectorization</font>"
   ]
  },
  {
   "cell_type": "code",
   "execution_count": 36,
   "id": "4cb6b658",
   "metadata": {},
   "outputs": [],
   "source": [
    "## TFidf Vectorizer\n",
    "from sklearn.feature_extraction.text import TfidfVectorizer\n",
    "\n",
    "tfidf_v = TfidfVectorizer(max_features=5000, ngram_range=(1,3))"
   ]
  },
  {
   "cell_type": "code",
   "execution_count": 37,
   "id": "d7cec262",
   "metadata": {},
   "outputs": [
    {
     "data": {
      "text/plain": [
       "{'analyzer': 'word',\n",
       " 'binary': False,\n",
       " 'decode_error': 'strict',\n",
       " 'dtype': numpy.float64,\n",
       " 'encoding': 'utf-8',\n",
       " 'input': 'content',\n",
       " 'lowercase': True,\n",
       " 'max_df': 1.0,\n",
       " 'max_features': 5000,\n",
       " 'min_df': 1,\n",
       " 'ngram_range': (1, 3),\n",
       " 'norm': 'l2',\n",
       " 'preprocessor': None,\n",
       " 'smooth_idf': True,\n",
       " 'stop_words': None,\n",
       " 'strip_accents': None,\n",
       " 'sublinear_tf': False,\n",
       " 'token_pattern': '(?u)\\\\b\\\\w\\\\w+\\\\b',\n",
       " 'tokenizer': None,\n",
       " 'use_idf': True,\n",
       " 'vocabulary': None}"
      ]
     },
     "execution_count": 37,
     "metadata": {},
     "output_type": "execute_result"
    }
   ],
   "source": [
    "tfidf_v.get_params()"
   ]
  },
  {
   "cell_type": "code",
   "execution_count": 38,
   "id": "c5068f69",
   "metadata": {},
   "outputs": [],
   "source": [
    "X = tfidf_v.fit_transform(corpus).toarray()\n",
    "y = df['label']"
   ]
  },
  {
   "cell_type": "code",
   "execution_count": 39,
   "id": "0df141e8",
   "metadata": {},
   "outputs": [],
   "source": [
    "## Divide the dataset into Train and Test\n",
    "from sklearn.model_selection import train_test_split\n",
    "\n",
    "X_train, X_test, y_train, y_test = train_test_split(X, y, test_size=0.2, random_state=0)"
   ]
  },
  {
   "cell_type": "markdown",
   "id": "f678dc7f",
   "metadata": {},
   "source": [
    "### <font face=\"Consolas\">Model building and Evaluation</font>"
   ]
  },
  {
   "cell_type": "code",
   "execution_count": 40,
   "id": "e50e0213",
   "metadata": {},
   "outputs": [],
   "source": [
    "# Modelling Algorithms\n",
    "from sklearn.naive_bayes import MultinomialNB\n",
    "from sklearn.linear_model import LogisticRegression\n",
    "from sklearn.svm import LinearSVC\n",
    "from sklearn.ensemble import RandomForestClassifier\n",
    "from xgboost import XGBClassifier\n",
    "\n",
    "# Modelling Helpers\n",
    "from sklearn.model_selection import train_test_split\n",
    "from sklearn.feature_extraction.text import TfidfVectorizer\n",
    "from sklearn.feature_extraction.text import CountVectorizer\n",
    "from sklearn import metrics\n",
    "\n",
    "from sklearn.metrics import accuracy_score\n",
    "from sklearn.metrics import f1_score\n",
    "from sklearn.metrics import roc_auc_score\n",
    "from sklearn.metrics import roc_curve\n",
    "\n",
    "# Computations\n",
    "import itertools"
   ]
  },
  {
   "cell_type": "code",
   "execution_count": 41,
   "id": "3dd79970",
   "metadata": {},
   "outputs": [],
   "source": [
    "def plot_confusion_matrix(cm, classes,\n",
    "                          normalize=False,\n",
    "                          title='Confusion matrix',\n",
    "                          cmap=plt.cm.Blues):\n",
    "    \n",
    "    plt.imshow(cm, interpolation='nearest', cmap=cmap)\n",
    "    plt.title(title)\n",
    "    plt.colorbar()\n",
    "    tick_marks = np.arange(len(classes))\n",
    "    plt.xticks(tick_marks, classes, rotation=45)\n",
    "    plt.yticks(tick_marks, classes)\n",
    "    thresh = cm.max() / 2.\n",
    "    for i, j in itertools.product(range(cm.shape[0]), range(cm.shape[1])):\n",
    "        plt.text(j, i, cm[i, j],\n",
    "                 horizontalalignment=\"center\",\n",
    "                 color=\"white\" if cm[i, j] > thresh else \"black\")\n",
    "\n",
    "    plt.tight_layout()\n",
    "    plt.ylabel('True label')\n",
    "    plt.xlabel('Predicted label')"
   ]
  },
  {
   "cell_type": "markdown",
   "id": "59faf597",
   "metadata": {},
   "source": [
    "### <font face=\"Consolas\">Naive Bayes</font>"
   ]
  },
  {
   "cell_type": "code",
   "execution_count": 47,
   "id": "343d13a4",
   "metadata": {},
   "outputs": [
    {
     "name": "stdout",
     "output_type": "stream",
     "text": [
      "0.924\n"
     ]
    },
    {
     "data": {
      "image/png": "[encoded data removed]",
      "text/plain": [
       "<Figure size 640x480 with 2 Axes>"
      ]
     },
     "metadata": {},
     "output_type": "display_data"
    }
   ],
   "source": [
    "nb = MultinomialNB(alpha = 0.1)\n",
    "nb.fit(X_train, y_train)\n",
    "pred_nb = nb.predict(X_test)\n",
    "acc_nb = metrics.accuracy_score(y_test, pred_nb)\n",
    "print(acc_nb)\n",
    "\n",
    "cm_nb = metrics.confusion_matrix(y_test, pred_nb, labels=[0,1])\n",
    "plot_confusion_matrix(cm_nb, classes=['TRUE','FAKE'], title ='Confusion matrix for a MultinomialNB')"
   ]
  },
  {
   "cell_type": "markdown",
   "id": "9712b650",
   "metadata": {},
   "source": [
    "### <font face=\"Consolas\">Logistic Regression</font>"
   ]
  },
  {
   "cell_type": "code",
   "execution_count": 48,
   "id": "1b1908ab",
   "metadata": {},
   "outputs": [
    {
     "name": "stdout",
     "output_type": "stream",
     "text": [
      "0.986\n"
     ]
    },
    {
     "data": {
      "image/png": "[encoded data removed]",
      "text/plain": [
       "<Figure size 640x480 with 2 Axes>"
      ]
     },
     "metadata": {},
     "output_type": "display_data"
    }
   ],
   "source": [
    "lg = LogisticRegression(C=1e5)\n",
    "lg.fit(X_train, y_train)\n",
    "pred_lg = lg.predict(X_test)\n",
    "acc_lg = metrics.accuracy_score(y_test,pred_lg)\n",
    "print(acc_lg)\n",
    "\n",
    "cm_lg = metrics.confusion_matrix(y_test, pred_lg, labels=[0,1])\n",
    "plot_confusion_matrix(cm_lg, classes=['TRUE','FAKE'], title ='Confusion matrix for a Logistic Regression')"
   ]
  },
  {
   "cell_type": "markdown",
   "id": "546c5da9",
   "metadata": {},
   "source": [
    "### <font face=\"Consolas\">Linear SVC</font>"
   ]
  },
  {
   "cell_type": "code",
   "execution_count": 49,
   "id": "65d651c2",
   "metadata": {},
   "outputs": [
    {
     "name": "stdout",
     "output_type": "stream",
     "text": [
      "0.9885\n"
     ]
    },
    {
     "data": {
      "image/png": "[encoded data removed]",
      "text/plain": [
       "<Figure size 640x480 with 2 Axes>"
      ]
     },
     "metadata": {},
     "output_type": "display_data"
    }
   ],
   "source": [
    "svc = LinearSVC()\n",
    "svc.fit(X_train, y_train)\n",
    "pred_svc = svc.predict(X_test)\n",
    "acc_svc = metrics.accuracy_score(y_test, pred_svc)\n",
    "print(acc_svc)\n",
    "\n",
    "cm_svc = metrics.confusion_matrix(y_test, pred_svc, labels=[0,1])\n",
    "plot_confusion_matrix(cm_svc, classes=['TRUE','FAKE'], title ='Confusion matrix for a Linear SVC')"
   ]
  },
  {
   "cell_type": "markdown",
   "id": "38a0d59f",
   "metadata": {},
   "source": [
    "### <font face=\"Consolas\">XG Boost</font>"
   ]
  },
  {
   "cell_type": "code",
   "execution_count": 54,
   "id": "3b656329",
   "metadata": {
    "scrolled": true
   },
   "outputs": [
    {
     "name": "stdout",
     "output_type": "stream",
     "text": [
      "0.992\n"
     ]
    },
    {
     "data": {
      "image/png": "[encoded data removed]",
      "text/plain": [
       "<Figure size 640x480 with 2 Axes>"
      ]
     },
     "metadata": {},
     "output_type": "display_data"
    }
   ],
   "source": [
    "xg = XGBClassifier()\n",
    "xg.fit(X_train, y_train)\n",
    "pred_xg = xg.predict(X_test)\n",
    "acc_xg = metrics.accuracy_score(y_test, pred_xg)\n",
    "print(acc_xg)\n",
    "\n",
    "cm_xg = metrics.confusion_matrix(y_test, pred_xg, labels=[0,1])\n",
    "plot_confusion_matrix(cm_xg, classes=['TRUE','FAKE'], title ='Confusion matrix for a XG Boost classifier')"
   ]
  },
  {
   "cell_type": "markdown",
   "id": "7b0c12d2",
   "metadata": {},
   "source": [
    "### <font face=\"Consolas\">Model Testing</font>"
   ]
  },
  {
   "cell_type": "code",
   "execution_count": 55,
   "id": "420d5fbb",
   "metadata": {},
   "outputs": [
    {
     "data": {
      "text/plain": [
       "'think gun grabber chief next virginia state senat bill carrico r dist respond governor terri mcauliff relentless gun control push introduc budget amend remov fund mcauliff protect detail carrico said afraid gun go surround arm state policemen mcauliff push numer gun control governor august infam push expand background check virginia report alison parker shot air mcauliff made push expand background check gunman kill parker caught therefor knowledg gunman acquir gun turn gunman vester lee flanagan acquir gun via background check moreov octob mcauliff issu execut order ban open carri firearm state build use virginia execut branch call enforc ensur peopl busi sell gun virginia feder firearm licens ffl senat carrico respond thing tri sure mcauliff around gun bother much accord bristol herald courier carrico said address matter gener assembl conven januari say lot governor power defer gener assembl point get colleagu circumv everyth governor done point budget amend look take away execut protect unit afraid gun go surround arm state policemen via breitbart news'"
      ]
     },
     "execution_count": 55,
     "metadata": {},
     "output_type": "execute_result"
    }
   ],
   "source": [
    "# test on random data\n",
    "\n",
    "review = re.sub('[^a-zA-Z]', ' ', fake['text'][16888])\n",
    "review = review.lower()\n",
    "review = review.split()\n",
    "    \n",
    "review = [ps.stem(word) for word in review if not word in stopwords.words('english')]\n",
    "review = ' '.join(review)\n",
    "review"
   ]
  },
  {
   "cell_type": "code",
   "execution_count": 56,
   "id": "7b68898f",
   "metadata": {},
   "outputs": [],
   "source": [
    "val = tfidf_v.transform([review]).toarray()"
   ]
  },
  {
   "cell_type": "code",
   "execution_count": 58,
   "id": "f4cb0359",
   "metadata": {},
   "outputs": [
    {
     "data": {
      "text/plain": [
       "array([0])"
      ]
     },
     "execution_count": 58,
     "metadata": {},
     "output_type": "execute_result"
    }
   ],
   "source": [
    "xg.predict(val)"
   ]
  },
  {
   "cell_type": "code",
   "execution_count": 61,
   "id": "a72d711c",
   "metadata": {},
   "outputs": [
    {
     "data": {
      "text/plain": [
       "array([0])"
      ]
     },
     "execution_count": 61,
     "metadata": {},
     "output_type": "execute_result"
    }
   ],
   "source": [
    "#save model\n",
    "import joblib\n",
    "joblib.dump(xg, 'final_model.pkl')\n",
    "joblib.dump(tfidf_v, 'final_tfidfvect.pkl')\n",
    "joblib_model = joblib.load('final_model.pkl')\n",
    "joblib_tfidfvect = joblib.load('final_tfidfvect.pkl')\n",
    "val_pkl = joblib_tfidfvect.transform([review]).toarray()\n",
    "joblib_model.predict(val_pkl)"
   ]
  },
  {
   "cell_type": "markdown",
   "id": "210a383c",
   "metadata": {},
   "source": [
    "### <font face=\"Consolas\">Conclusion</font>"
   ]
  },
  {
   "cell_type": "markdown",
   "id": "3c5afe3c",
   "metadata": {},
   "source": [
    "#### XG Boost model performed better as compared to others with 99.2% accuracy"
   ]
  },
  {
   "cell_type": "code",
   "execution_count": null,
   "id": "a1f44a67",
   "metadata": {},
   "outputs": [],
   "source": []
  }
 ],
 "metadata": {
  "kernelspec": {
   "display_name": "Python 3 (ipykernel)",
   "language": "python",
   "name": "python3"
  },
  "language_info": {
   "codemirror_mode": {
    "name": "ipython",
    "version": 3
   },
   "file_extension": ".py",
   "mimetype": "text/x-python",
   "name": "python",
   "nbconvert_exporter": "python",
   "pygments_lexer": "ipython3",
   "version": "3.9.12"
  }
 },
 "nbformat": 4,
 "nbformat_minor": 5
}
